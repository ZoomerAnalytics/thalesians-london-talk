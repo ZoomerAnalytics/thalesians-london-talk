{
 "cells": [
  {
   "cell_type": "code",
   "execution_count": 1,
   "metadata": {},
   "outputs": [],
   "source": [
    "# imports and random walk definition\n",
    "import numpy\n",
    "import scipy.stats\n",
    "import matplotlib.pyplot as plt\n",
    "import time\n",
    "\n",
    "def random_walk(s0, mu, sigma, days):\n",
    "    dt = 1/365.\n",
    "    prices = numpy.zeros(days)\n",
    "    shocks = numpy.zeros(days)\n",
    "    prices[0] = s0\n",
    "    for i in range(1, days):\n",
    "        e = numpy.random.normal(loc=mu * dt, scale=sigma * numpy.sqrt(dt))\n",
    "        prices[i] = prices[i-1] * (1 + e)\n",
    "    return prices"
   ]
  },
  {
   "cell_type": "code",
   "execution_count": 6,
   "metadata": {},
   "outputs": [
    {
     "data": {
      "text/plain": [
       "Text(0,0.5,'Price')"
      ]
     },
     "execution_count": 6,
     "metadata": {},
     "output_type": "execute_result"
    },
    {
     "data": {
      "image/png": "[encoded data removed]",
      "text/plain": [
       "<Figure size 432x288 with 1 Axes>"
      ]
     },
     "metadata": {
      "needs_background": "light"
     },
     "output_type": "display_data"
    }
   ],
   "source": [
    "plt.plot(random_walk(20.0, 0.05, 0.2, 250))\n",
    "plt.xlabel(\"Days\")\n",
    "plt.ylabel(\"Price\")"
   ]
  },
  {
   "cell_type": "code",
   "execution_count": 9,
   "metadata": {},
   "outputs": [
    {
     "name": "stdout",
     "output_type": "stream",
     "text": [
      "Result=13.149 (took 9.11s)\n"
     ]
    }
   ],
   "source": [
    "# run n MC simulations sequentially\n",
    "\n",
    "# parameters\n",
    "strike = 100.\n",
    "s0 = 100.\n",
    "r = 0.05\n",
    "sigma = 0.2\n",
    "days = 365*4\n",
    "n = 2000\n",
    "\n",
    "# simulation results\n",
    "simulations = numpy.zeros(n)\n",
    "\n",
    "start_time = time.time()\n",
    "for i in range(n):\n",
    "    x = numpy.average(random_walk(s0, r, sigma, days))\n",
    "    simulations[i] = max(0, x - strike)\n",
    "\n",
    "# average individual results and discount\n",
    "p = numpy.average(simulations) * numpy.exp(-r*days/365.)\n",
    "end_time = time.time()\n",
    "\n",
    "print(f'Result={round(p, 3)} (took {round(end_time - start_time, 3)}s)')"
   ]
  },
  {
   "cell_type": "code",
   "execution_count": 10,
   "metadata": {},
   "outputs": [
    {
     "name": "stdout",
     "output_type": "stream",
     "text": [
      "Result=12.795 (took 47.493s)\n"
     ]
    }
   ],
   "source": [
    "# idea: use threads to generate random walks in parallel\n",
    "# use concurrent.futures.ThreadPoolExecutor\n",
    "from concurrent.futures import ThreadPoolExecutor\n",
    "\n",
    "# parameters\n",
    "strike = 100.\n",
    "s0 = 100.\n",
    "r = 0.05\n",
    "sigma = 0.2\n",
    "days = 365*4\n",
    "n = 2000\n",
    "\n",
    "# simulation results\n",
    "simulations = numpy.zeros(n)\n",
    "\n",
    "# list to hold Future instances created by Executor.submit()\n",
    "# the Future class encapsulates the asynchronous execution of a callable\n",
    "futures = []\n",
    "\n",
    "start_time = time.time()\n",
    "# submit calculations to ThreadPoolExecutor \n",
    "with ThreadPoolExecutor(max_workers=2) as executor:\n",
    "    for i in range(n):\n",
    "        futures.append(executor.submit(random_walk, s0, r, sigma, days))\n",
    "\n",
    "# collect results\n",
    "for i, future in enumerate(futures):\n",
    "    x = numpy.average(future.result())\n",
    "    simulations[i] = max(0, x - strike)\n",
    "\n",
    "# average individual results and discount\n",
    "p = numpy.average(simulations) * numpy.exp(-r*days/365.)\n",
    "\n",
    "end_time = time.time()\n",
    "print(f'Result={round(p, 3)} (took {round(end_time - start_time, 3)}s)')\n"
   ]
  },
  {
   "cell_type": "code",
   "execution_count": 13,
   "metadata": {},
   "outputs": [
    {
     "data": {
      "text/plain": [
       "64435"
      ]
     },
     "execution_count": 13,
     "metadata": {},
     "output_type": "execute_result"
    }
   ],
   "source": [
    "# memory-management, refcounting, protection from race-conditions, locks/deadlocks\n",
    "# ...and the GIL as a pragmatic solution that made Python as popular as it is today\n",
    "import sys\n",
    "a = []\n",
    "a = None\n",
    "sys.getrefcount(a)"
   ]
  },
  {
   "cell_type": "code",
   "execution_count": null,
   "metadata": {},
   "outputs": [],
   "source": [
    "# idea: use processes to generate random walks in parallel\n",
    "# use concurrent.futures.ProcessPoolExecutor\n",
    "from concurrent.futures import ProcessPoolExecutor\n",
    "import lib\n",
    "\n",
    "# parameters\n",
    "strike = 100.\n",
    "s0 = 100.\n",
    "r = 0.05\n",
    "sigma = 0.2\n",
    "days = 365*4\n",
    "n = 3000\n",
    "\n",
    "# simulation results\n",
    "simulations = numpy.zeros(n)\n",
    "\n",
    "# list to hold Future instances created by Executor.submit()\n",
    "# the Future class encapsulates the asynchronous execution of a callable\n",
    "futures = []\n",
    "\n",
    "\n",
    "start_time = time.time()\n",
    "# submit calculations to ThreadPoolExecutor \n",
    "with ProcessPoolExecutor(max_workers=2) as executor:\n",
    "    for i in range(n):\n",
    "        futures.append(executor.submit(lib.random_walk, s0, r, sigma, days))\n",
    "\n",
    "# collect results\n",
    "for i, future in enumerate(futures):\n",
    "    x = numpy.average(future.result())\n",
    "    simulations[i] = max(0, x - strike)\n",
    "\n",
    "# average individual results and discount\n",
    "p = numpy.average(simulations) * numpy.exp(-r*days/365.)\n",
    "\n",
    "end_time = time.time()\n",
    "print(f'Result={round(p, 3)} (took {round(end_time - start_time, 3)}s)')\n",
    "\n",
    "\n"
   ]
  },
  {
   "cell_type": "code",
   "execution_count": 2,
   "metadata": {},
   "outputs": [
    {
     "name": "stdout",
     "output_type": "stream",
     "text": [
      "env: CELERY_BROKER_URL=redis://185.207.112.230:6379/0\n",
      "env: CELERY_RESULT_BACKEND=redis://185.207.112.230:6379/0\n"
     ]
    }
   ],
   "source": [
    "# set celerybroker url (redis)\n",
    "# restart kernel when switching\n",
    "\n",
    "# local: redis://localhost:6379/0\n",
    "# %set_env CELERY_BROKER_URL=redis://localhost:6379/0\n",
    "# %set_env CELERY_RESULT_BACKEND=redis://localhost:6379/0\n",
    "\n",
    "# cloud: redis://185.207.112.230:6379/0\n",
    "%set_env CELERY_BROKER_URL=redis://185.207.112.230:6379/0\n",
    "%set_env CELERY_RESULT_BACKEND=redis://185.207.112.230:6379/0\n",
    "\n"
   ]
  },
  {
   "cell_type": "code",
   "execution_count": 3,
   "metadata": {},
   "outputs": [
    {
     "name": "stdout",
     "output_type": "stream",
     "text": [
      "66cfcfb3-cecf-4ccb-a4b3-92834d1db25b\n",
      "PENDING\n"
     ]
    }
   ],
   "source": [
    "# import celery task\n",
    "# this assumes access to the celery app's code base\n",
    "# which is not necessary: app.send_task('average_of_random_walk', kwargs={'s0': ...})\n",
    "from tasks import average_of_random_walk\n",
    "\n",
    "# run a task remotely (see logs)\n",
    "task = average_of_random_walk.s(s0=100, mu=0.05, sigma=0.2, days=365*4).delay()\n",
    "\n",
    "\n",
    "# print task id and status\n",
    "print(task.id)\n",
    "print(task.status)\n",
    "\n",
    "# wait for task to finish and get result\n",
    "# print(task.get())\n",
    "# print(task.status)"
   ]
  },
  {
   "cell_type": "code",
   "execution_count": 8,
   "metadata": {},
   "outputs": [
    {
     "data": {
      "text/plain": [
       "92.40350218360928"
      ]
     },
     "execution_count": 8,
     "metadata": {},
     "output_type": "execute_result"
    }
   ],
   "source": [
    "task.get()"
   ]
  },
  {
   "cell_type": "code",
   "execution_count": 5,
   "metadata": {},
   "outputs": [
    {
     "name": "stdout",
     "output_type": "stream",
     "text": [
      "[142.09630562449493, 87.399617538753, 92.40350218360928, 87.399617538753, 116.9719402143573, 116.9719402143573, 113.00612571739451, 113.00612571739451, 142.15851247762578, 134.75526919356864]\n"
     ]
    }
   ],
   "source": [
    "# Celery workflow primitives: chains and group\n",
    "from celery import chain, group\n",
    "from tasks import add\n",
    "from tasks import average_of_random_walk\n",
    "\n",
    "# task = chain(add.s(2,2), add.s(5), add.s(10)).delay()\n",
    "# print(task.get())\n",
    "\n",
    "task = group([average_of_random_walk.s(s0=100, mu=0.05, sigma=0.2, days=365*4) for i in range(10)]).delay()\n",
    "print(task.get())"
   ]
  },
  {
   "cell_type": "code",
   "execution_count": 4,
   "metadata": {},
   "outputs": [
    {
     "name": "stdout",
     "output_type": "stream",
     "text": [
      "Result=90.446 (took 138.613s)\n"
     ]
    }
   ],
   "source": [
    "import time\n",
    "import numpy\n",
    "from celery import chord, group\n",
    "from tasks import average_of_random_walk, average\n",
    "\n",
    "n = 1000\n",
    "strike = 100.\n",
    "s0 = 100.\n",
    "r = 0.05\n",
    "sigma = 0.2\n",
    "days = 365*4\n",
    "\n",
    "start_time = time.time()\n",
    "result = chord([average_of_random_walk.s(100, 0.05, 0.2, 365*4) for i in range(n)])(average.s()).get()\n",
    "p = result * numpy.exp(-r*days/365.)\n",
    "\n",
    "end_time = time.time()\n",
    "print(f'Result={round(p, 3)} (took {round(end_time - start_time, 3)}s)')\n"
   ]
  },
  {
   "cell_type": "code",
   "execution_count": null,
   "metadata": {},
   "outputs": [],
   "source": []
  }
 ],
 "metadata": {
  "kernelspec": {
   "display_name": "Python 3",
   "language": "python",
   "name": "python3"
  },
  "language_info": {
   "codemirror_mode": {
    "name": "ipython",
    "version": 3
   },
   "file_extension": ".py",
   "mimetype": "text/x-python",
   "name": "python",
   "nbconvert_exporter": "python",
   "pygments_lexer": "ipython3",
   "version": "3.6.0"
  }
 },
 "nbformat": 4,
 "nbformat_minor": 2
}
